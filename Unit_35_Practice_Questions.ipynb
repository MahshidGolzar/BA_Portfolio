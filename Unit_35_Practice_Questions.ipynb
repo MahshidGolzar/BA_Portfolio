{
  "nbformat": 4,
  "nbformat_minor": 0,
  "metadata": {
    "colab": {
      "provenance": [],
      "authorship_tag": "ABX9TyPfGh1jlLML9Ja8weo9TxkW",
      "include_colab_link": true
    },
    "kernelspec": {
      "name": "python3",
      "display_name": "Python 3"
    },
    "language_info": {
      "name": "python"
    }
  },
  "cells": [
    {
      "cell_type": "markdown",
      "metadata": {
        "id": "view-in-github",
        "colab_type": "text"
      },
      "source": [
        "<a href=\"https://colab.research.google.com/github/MahshidGolzar/BA_Portfolio/blob/main/Unit_35_Practice_Questions.ipynb\" target=\"_parent\"><img src=\"https://colab.research.google.com/assets/colab-badge.svg\" alt=\"Open In Colab\"/></a>"
      ]
    },
    {
      "cell_type": "markdown",
      "source": [
        "# if **statement**"
      ],
      "metadata": {
        "id": "JqXSwSmAaow1"
      }
    },
    {
      "cell_type": "markdown",
      "source": [
        "1. Coffee Order System\n",
        "\n",
        "\n",
        "Concepts: Variables, Input/Output, Data Types, If-Else Statements\n",
        "Scenario: A user orders coffee and selects the type of coffee they want."
      ],
      "metadata": {
        "id": "dptPaMbDMs3n"
      }
    },
    {
      "cell_type": "code",
      "execution_count": null,
      "metadata": {
        "id": "bMc4Br4XLdf4"
      },
      "outputs": [],
      "source": [
        "# Coffee Order System\n",
        "\n",
        "# Asking the user for their coffee choice\n",
        "coffee_type = input(\"What type of coffee would you like? (Latte, Espresso, Cappuccino): \")\n",
        "\n",
        "# Asking for sugar preference\n",
        "sugar = input(\"Do you want sugar? (yes/no): \")\n",
        "\n",
        "# Checking the coffee type and confirming the order\n",
        "if coffee_type.lower() in [\"latte\", \"espresso\", \"cappuccino\"]:\n",
        "    print(f\"Preparing your {coffee_type} with {'sugar' if sugar.lower() == 'yes' else 'no sugar'}. Enjoy!\")\n",
        "else:\n",
        "    print(\"Sorry, we don't have that coffee type.\")\n"
      ]
    },
    {
      "cell_type": "markdown",
      "source": [
        "# **a simpler version:**"
      ],
      "metadata": {
        "id": "SZBh6efEcqpS"
      }
    },
    {
      "cell_type": "code",
      "source": [
        "# Coffee Order System\n",
        "\n",
        "# Asking the user for their coffee choice\n",
        "coffee_type = input(\"What type of coffee would you like? (Latte, Espresso, Cappuccino): \")\n",
        "\n",
        "# Asking for sugar preference\n",
        "sugar = input(\"Do you want sugar? (yes/no): \")\n",
        "\n",
        "# Checking the coffee type and confirming the order\n",
        "if coffee_type.lower() == \"latte\":\n",
        "    if sugar.lower() == \"yes\":\n",
        "        print(\"Preparing your Latte with sugar. Enjoy!\")\n",
        "    else:\n",
        "        print(\"Preparing your Latte without sugar. Enjoy!\")\n",
        "\n",
        "elif coffee_type.lower() == \"espresso\":\n",
        "    if sugar.lower() == \"yes\":\n",
        "        print(\"Preparing your Espresso with sugar. Enjoy!\")\n",
        "    else:\n",
        "        print(\"Preparing your Espresso without sugar. Enjoy!\")\n",
        "\n",
        "elif coffee_type.lower() == \"cappuccino\":\n",
        "    if sugar.lower() == \"yes\":\n",
        "        print(\"Preparing your Cappuccino with sugar. Enjoy!\")\n",
        "    else:\n",
        "        print(\"Preparing your Cappuccino without sugar. Enjoy!\")\n",
        "\n",
        "else:\n",
        "    print(\"Sorry, we don't have that coffee type.\")\n"
      ],
      "metadata": {
        "colab": {
          "base_uri": "https://localhost:8080/"
        },
        "id": "hb5_y282cpbp",
        "outputId": "bef971eb-a0c8-404e-dd16-1618c2fc5a5f"
      },
      "execution_count": null,
      "outputs": [
        {
          "output_type": "stream",
          "name": "stdout",
          "text": [
            "What type of coffee would you like? (Latte, Espresso, Cappuccino): Latte\n",
            "Do you want sugar? (yes/no): yes\n",
            "Preparing your Latte with sugar. Enjoy!\n"
          ]
        }
      ]
    },
    {
      "cell_type": "markdown",
      "source": [
        "2. Temperature Converter\n",
        "\n",
        "\n",
        "Concepts: Variables, Input/Output, Data Types, If-Else Statements\n",
        "Scenario: The user enters a temperature in Celsius, and the program converts it to Fahrenheit."
      ],
      "metadata": {
        "id": "rF1LQ8YPvYYd"
      }
    },
    {
      "cell_type": "code",
      "source": [
        "# Temperature Converter\n",
        "\n",
        "# Asking the user to enter temperature in Celsius\n",
        "celsius = float(input(\"Enter temperature in Celsius: \"))\n",
        "\n",
        "# Converting Celsius to Fahrenheit\n",
        "fahrenheit = (celsius * 9/5) + 32\n",
        "\n",
        "# Displaying the converted temperature\n",
        "print(f\"{celsius}°C is equal to {fahrenheit}°F.\")\n",
        "\n",
        "# Checking if it's a hot or cold day\n",
        "if fahrenheit > 80:\n",
        "    print(\"It's a hot day! Stay hydrated.\")\n",
        "elif fahrenheit < 50:\n",
        "    print(\"It's a cold day! Wear warm clothes.\")\n",
        "else:\n",
        "    print(\"The weather is pleasant.\")\n"
      ],
      "metadata": {
        "id": "fnoPcxq_vaHL"
      },
      "execution_count": null,
      "outputs": []
    },
    {
      "cell_type": "markdown",
      "source": [
        "# **a simpler version:**\n",
        "\n",
        "> #to type the degree sign hold alt and then press 0176 on the 10-key numeric pad\n",
        "\n"
      ],
      "metadata": {
        "id": "-A1BhIgPdaSw"
      }
    },
    {
      "cell_type": "code",
      "source": [
        "# Temperature Converter\n",
        "\n",
        "# Asking the user to enter temperature in Celsius\n",
        "celsius = float(input(\"Enter temperature in Celsius: \"))\n",
        "\n",
        "# Converting Celsius to Fahrenheit\n",
        "fahrenheit = (celsius * 9/5) + 32\n",
        "\n",
        "# Displaying the converted temperature\n",
        "print(celsius, \"°C is equal to\", fahrenheit, \"°F.\") #to type the degree sign hold alt and then press 0176 on the 10-key numeric pad\n",
        "\n",
        "# Checking if it's a hot or cold day\n",
        "if fahrenheit > 80:\n",
        "    print(\"It's a hot day! Stay hydrated.\")\n",
        "else:\n",
        "    if fahrenheit < 50:\n",
        "        print(\"It's a cold day! Wear warm clothes.\")\n",
        "    else:\n",
        "        print(\"The weather is pleasant.\")\n"
      ],
      "metadata": {
        "colab": {
          "base_uri": "https://localhost:8080/"
        },
        "id": "GLgv8Iz2dbO4",
        "outputId": "9df7db8c-15a9-42f2-d10d-cead7a641c44"
      },
      "execution_count": null,
      "outputs": [
        {
          "output_type": "stream",
          "name": "stdout",
          "text": [
            "Enter temperature in Celsius: 12\n",
            "12.0 °C is equal to 53.6 °F.\n",
            "The weather is pleasant.\n"
          ]
        }
      ]
    },
    {
      "cell_type": "markdown",
      "source": [
        "3. Simple Grocery Billing System\n",
        "\n",
        "\n",
        "Concepts: Variables, Input/Output, Data Types, If-Else Statements\n",
        "Scenario: The user buys fruits, and the program calculates the total cost."
      ],
      "metadata": {
        "id": "qSO6idrQvbq7"
      }
    },
    {
      "cell_type": "code",
      "source": [
        "# Grocery Billing System\n",
        "\n",
        "# Asking the user for the quantity of apples\n",
        "apples = int(input(\"How many apples are you buying? \"))\n",
        "\n",
        "# Asking for the quantity of bananas\n",
        "bananas = int(input(\"How many bananas are you buying? \"))\n",
        "\n",
        "# Setting price per fruit\n",
        "apple_price = 0.50  # Price per apple in pounds\n",
        "banana_price = 0.30  # Price per banana in pounds\n",
        "\n",
        "# Calculating the total cost\n",
        "total_cost = (apples * apple_price) + (bananas * banana_price)\n",
        "\n",
        "# Displaying the total cost\n",
        "print(f\"Total cost: £{total_cost:.2f}\")\n",
        "\n",
        "# Checking if the user gets a discount\n",
        "if total_cost > 5:\n",
        "    print(\"You get a discount of £1!\")\n",
        "    total_cost -= 1  # Applying discount\n",
        "\n",
        "print(f\"Final amount to pay: £{total_cost:.2f}\")\n"
      ],
      "metadata": {
        "id": "1WLNBG1IvhsM"
      },
      "execution_count": null,
      "outputs": []
    },
    {
      "cell_type": "markdown",
      "source": [
        "# a simpler version"
      ],
      "metadata": {
        "id": "W460xF1Ze9gL"
      }
    },
    {
      "cell_type": "code",
      "source": [
        "# Grocery Billing System\n",
        "\n",
        "# Asking the user for the quantity of apples\n",
        "apples = int(input(\"How many apples are you buying? \"))\n",
        "\n",
        "# Asking for the quantity of bananas\n",
        "bananas = int(input(\"How many bananas are you buying? \"))\n",
        "\n",
        "# Setting price per fruit\n",
        "apple_price = 0.50  # Price per apple in pounds\n",
        "banana_price = 0.30  # Price per banana in pounds\n",
        "\n",
        "# Calculating the total cost\n",
        "total_cost = (apples * apple_price) + (bananas * banana_price)\n",
        "\n",
        "# Displaying the total cost\n",
        "print(\"Total cost: £\", round(total_cost, 2))\n",
        "\n",
        "# Checking if the user gets a discount\n",
        "if total_cost > 5:\n",
        "    print(\"You get a discount of £1!\")\n",
        "    total_cost = total_cost - 1  # Applying discount\n",
        "\n",
        "print(\"Final amount to pay: £\", round(total_cost, 2))\n"
      ],
      "metadata": {
        "id": "RsZ9YEAGfDUZ",
        "outputId": "c111cd88-539a-4783-ba2e-135db632bc6d",
        "colab": {
          "base_uri": "https://localhost:8080/"
        }
      },
      "execution_count": null,
      "outputs": [
        {
          "output_type": "stream",
          "name": "stdout",
          "text": [
            "How many apples are you buying? 4\n",
            "How many bananas are you buying? 4\n",
            "Total cost: £ 3.2\n",
            "Final amount to pay: £ 3.2\n"
          ]
        }
      ]
    },
    {
      "cell_type": "markdown",
      "source": [
        "4. Movie Ticket Price Checker\n",
        "\n",
        "\n",
        "Concepts: Variables, Input/Output, Data Types, If-Else Statements\n",
        "Scenario: The program checks the price of a movie ticket based on the user’s age."
      ],
      "metadata": {
        "id": "voNAuOBmvk4T"
      }
    },
    {
      "cell_type": "code",
      "source": [
        "# Movie Ticket Price Checker\n",
        "\n",
        "# Asking the user for their age\n",
        "age = int(input(\"Enter your age: \"))\n",
        "\n",
        "# Checking the ticket price based on age\n",
        "if age < 12:\n",
        "    price = 5  # Children's ticket price\n",
        "elif age < 18:\n",
        "    price = 8  # Teen ticket price\n",
        "elif age > 60:\n",
        "    price = 6  # Senior citizen ticket price\n",
        "else:\n",
        "    price = 10  # Adult ticket price\n",
        "\n",
        "# Displaying the ticket price\n",
        "print(f\"Your movie ticket price is £{price}. Enjoy your movie!\")\n"
      ],
      "metadata": {
        "id": "qKYpUIM3vmza"
      },
      "execution_count": null,
      "outputs": []
    },
    {
      "cell_type": "markdown",
      "source": [
        "5. Even or Odd Number Checker\n",
        "\n",
        "\n",
        "Concepts: Variables, Input/Output, Data Types, If-Else Statements\n",
        "Scenario: The program checks if a number is even or odd."
      ],
      "metadata": {
        "id": "pXXnInb2vo28"
      }
    },
    {
      "cell_type": "code",
      "source": [
        "# Even or Odd Number Checker\n",
        "\n",
        "# Asking the user to enter a number\n",
        "number = int(input(\"Enter a number: \"))\n",
        "\n",
        "# Checking if the number is even or odd\n",
        "if number % 2 == 0:\n",
        "    print(f\"The number {number} is even.\")\n",
        "else:\n",
        "    print(f\"The number {number} is odd.\")\n"
      ],
      "metadata": {
        "id": "Jiuyov-0vqtz"
      },
      "execution_count": null,
      "outputs": []
    },
    {
      "cell_type": "markdown",
      "source": [
        "# **for loop**"
      ],
      "metadata": {
        "id": "OwRvWeDvaz6v"
      }
    },
    {
      "cell_type": "markdown",
      "source": [
        "6. Multiplication Table Generator\n",
        "\n",
        "\n",
        "Concepts: For Loop, Input/Output, Variables\n",
        "Scenario: The program generates a multiplication table for a number entered by the user.\n"
      ],
      "metadata": {
        "id": "EMNRlubrvtNi"
      }
    },
    {
      "cell_type": "code",
      "source": [
        "# Multiplication Table Generator\n",
        "\n",
        "# Asking the user for a number\n",
        "number = int(input(\"Enter a number to see its multiplication table: \"))\n",
        "\n",
        "# Using a for loop to print the multiplication table (1 to 10)\n",
        "for i in range(1, 11):\n",
        "    print(f\"{number} x {i} = {number * i}\")\n"
      ],
      "metadata": {
        "id": "kmAWjgrzv2a1"
      },
      "execution_count": null,
      "outputs": []
    },
    {
      "cell_type": "markdown",
      "source": [
        "7. Shopping List Printer\n",
        "\n",
        "\n",
        "Concepts: For Loop, Lists, Input/Output\n",
        "Scenario: The user enters a list of shopping items, and the program prints them one by one."
      ],
      "metadata": {
        "id": "sGlw3xc7v7Zb"
      }
    },
    {
      "cell_type": "code",
      "source": [
        "# Shopping List Printer\n",
        "\n",
        "# Asking the user how many items they want to buy\n",
        "num_items = int(input(\"How many items do you want to add to your shopping list? \"))\n",
        "\n",
        "# Creating an empty list to store items\n",
        "shopping_list = []\n",
        "\n",
        "# Using a for loop to get items from the user\n",
        "for i in range(num_items):\n",
        "    item = input(f\"Enter item {i+1}: \")\n",
        "    shopping_list.append(item)\n",
        "\n",
        "# Printing the shopping list\n",
        "print(\"\\nYour shopping list:\")\n",
        "for item in shopping_list:\n",
        "    print(f\"- {item}\")\n"
      ],
      "metadata": {
        "id": "vlN6x1MRv-WY"
      },
      "execution_count": null,
      "outputs": []
    },
    {
      "cell_type": "markdown",
      "source": [
        "8. Countdown Timer\n",
        "\n",
        "\n",
        "Concepts: For Loop, Input/Output, Time Module\n",
        "Scenario: The program counts down from a number entered by the user."
      ],
      "metadata": {
        "id": "jq9tlptRwAWx"
      }
    },
    {
      "cell_type": "code",
      "source": [
        "import time  # Importing time module to add delay\n",
        "\n",
        "# Asking the user for a countdown start number\n",
        "countdown_start = int(input(\"Enter a number to start countdown: \"))\n",
        "\n",
        "# Using a for loop to count down\n",
        "for i in range(countdown_start, 0, -1):\n",
        "    print(i)\n",
        "    time.sleep(1)  # Adding a 1-second delay\n",
        "\n",
        "print(\"Time's up!\")\n"
      ],
      "metadata": {
        "id": "tTYxc4RkwyNh"
      },
      "execution_count": null,
      "outputs": []
    },
    {
      "cell_type": "markdown",
      "source": [
        "9. Student Grades\n",
        "\n",
        "Average Calculator\n",
        "Concepts: For Loop, Input/Output, Lists, Variables\n",
        "Scenario: The program asks for grades of multiple subjects and calculates the average."
      ],
      "metadata": {
        "id": "x4j1zSKGwD2u"
      }
    },
    {
      "cell_type": "code",
      "source": [
        "# Student Grades Average Calculator\n",
        "\n",
        "# Asking the user how many subjects they have\n",
        "num_subjects = int(input(\"How many subjects do you have? \"))\n",
        "\n",
        "# Creating a list to store grades\n",
        "grades = []\n",
        "\n",
        "# Using a for loop to get grades from the user\n",
        "for i in range(num_subjects):\n",
        "    grade = float(input(f\"Enter your grade for subject {i+1}: \"))\n",
        "    grades.append(grade)\n",
        "\n",
        "# Calculating the average grade\n",
        "average = sum(grades) / num_subjects\n",
        "\n",
        "# Printing the average\n",
        "print(f\"\\nYour average grade is: {average:.2f}\")\n",
        "\n",
        "# Giving feedback based on the average\n",
        "if average >= 70:\n",
        "    print(\"Great job! You're doing well.\")\n",
        "elif average >= 50:\n",
        "    print(\"You're passing, but there's room for improvement.\")\n",
        "else:\n",
        "    print(\"You need to work harder!\")\n"
      ],
      "metadata": {
        "id": "61uvKk_Bwy1v"
      },
      "execution_count": null,
      "outputs": []
    },
    {
      "cell_type": "markdown",
      "source": [
        "10.  Star Pattern Printer\n",
        "\n",
        "\n",
        "Concepts: For Loop, Nested Loops, Output Formatting\n",
        "\n",
        "Scenario: The program prints a simple star pattern based on the number of rows entered by the user."
      ],
      "metadata": {
        "id": "4gXKcqxWypOO"
      }
    },
    {
      "cell_type": "code",
      "source": [
        "# Star Pattern Printer\n",
        "\n",
        "# Asking the user for the number of rows\n",
        "rows = int(input(\"Enter the number of rows for the star pattern: \"))\n",
        "\n",
        "# Using a for loop to print the pattern\n",
        "for i in range(1, rows + 1):\n",
        "    print(\"*\" * i)  # Printing stars in increasing order\n"
      ],
      "metadata": {
        "id": "UzQpN5zHyuVe"
      },
      "execution_count": null,
      "outputs": []
    },
    {
      "cell_type": "markdown",
      "source": [
        "# **List**"
      ],
      "metadata": {
        "id": "auIGgGyBbfCw"
      }
    },
    {
      "cell_type": "markdown",
      "source": [
        "11. To-Do List Manager\n",
        "\n",
        "\n",
        "Concepts: Lists, For Loop, Input/Output\n",
        "\n",
        "\n",
        "Scenario: The user adds tasks to a to-do list, and the program displays them."
      ],
      "metadata": {
        "id": "6Kzbtztryw3z"
      }
    },
    {
      "cell_type": "code",
      "source": [
        "# To-Do List Manager\n",
        "\n",
        "# Creating an empty list for tasks\n",
        "tasks = []\n",
        "\n",
        "# Asking the user how many tasks they have\n",
        "num_tasks = int(input(\"How many tasks do you want to add to your to-do list? \"))\n",
        "\n",
        "# Using a for loop to get tasks from the user\n",
        "for i in range(num_tasks):\n",
        "    task = input(f\"Enter task {i+1}: \")\n",
        "    tasks.append(task)  # Adding the task to the list\n",
        "\n",
        "# Displaying the tasks\n",
        "print(\"\\nYour To-Do List:\")\n",
        "for task in tasks:\n",
        "    print(f\"- {task}\")\n"
      ],
      "metadata": {
        "id": "BJrArUaozYFb"
      },
      "execution_count": null,
      "outputs": []
    },
    {
      "cell_type": "markdown",
      "source": [
        "12. Favorite Movies List\n",
        "\n",
        "Concepts: Lists, For Loop, Input/Output\n",
        "\n",
        "Scenario: The user enters their favorite movies, and the program displays them."
      ],
      "metadata": {
        "id": "gtZKcuuX3Emv"
      }
    },
    {
      "cell_type": "code",
      "source": [
        "# Favorite Movies List\n",
        "\n",
        "# Creating an empty list for movies\n",
        "movies = []\n",
        "\n",
        "# Asking the user how many favorite movies they want to list\n",
        "num_movies = int(input(\"How many favorite movies do you want to enter? \"))\n",
        "\n",
        "# Using a for loop to get movies from the user\n",
        "for i in range(num_movies):\n",
        "    movie = input(f\"Enter movie {i+1}: \")\n",
        "    movies.append(movie)  # Adding the movie to the list\n",
        "\n",
        "# Displaying the list of favorite movies\n",
        "print(\"\\nYour Favorite Movies:\")\n",
        "for movie in movies:\n",
        "    print(f\"- {movie}\")\n"
      ],
      "metadata": {
        "id": "QtEoZVJO5QPA"
      },
      "execution_count": null,
      "outputs": []
    },
    {
      "cell_type": "markdown",
      "source": [
        "13. Shopping Cart System\n",
        "\n",
        "Concepts: Lists, If-Else, For Loop, Input/Output\n",
        "\n",
        "Scenario: The user adds and removes items from a shopping cart.\n"
      ],
      "metadata": {
        "id": "uEtfm33K5TQr"
      }
    },
    {
      "cell_type": "code",
      "source": [
        "# Shopping Cart System\n",
        "\n",
        "# Creating an empty list for shopping items\n",
        "cart = []\n",
        "\n",
        "while True:\n",
        "    print(\"\\n1. Add item\\n2. Remove item\\n3. View cart\\n4. Exit\")\n",
        "    choice = input(\"Enter your choice: \")\n",
        "\n",
        "    if choice == \"1\":\n",
        "        item = input(\"Enter the item to add: \")\n",
        "        cart.append(item)  # Adding item to cart\n",
        "        print(f\"{item} added to cart.\")\n",
        "    elif choice == \"2\":\n",
        "        item = input(\"Enter the item to remove: \")\n",
        "        if item in cart:\n",
        "            cart.remove(item)  # Removing item from cart\n",
        "            print(f\"{item} removed from cart.\")\n",
        "        else:\n",
        "            print(\"Item not found in cart.\")\n",
        "    elif choice == \"3\":\n",
        "        print(\"\\nYour Shopping Cart:\")\n",
        "        for i, item in enumerate(cart, 1):\n",
        "            print(f\"{i}. {item}\")\n",
        "    elif choice == \"4\":\n",
        "        print(\"Exiting... Thank you!\")\n",
        "        break\n",
        "    else:\n",
        "        print(\"Invalid choice. Please enter a number between 1 and 4.\")\n"
      ],
      "metadata": {
        "id": "qqoTdohx5b2M"
      },
      "execution_count": null,
      "outputs": []
    },
    {
      "cell_type": "markdown",
      "source": [
        "14. Student Score Analyzer\n",
        "\n",
        "Concepts: Lists, For Loop, If-Else, Input/Output\n",
        "\n",
        "Scenario: The program asks for student scores, finds the highest and lowest scores, and calculates the average."
      ],
      "metadata": {
        "id": "2YBHgfG75fBZ"
      }
    },
    {
      "cell_type": "code",
      "source": [
        "# Student Score Analyzer\n",
        "\n",
        "# Creating an empty list to store scores\n",
        "scores = []\n",
        "\n",
        "# Asking the user how many scores they want to enter\n",
        "num_scores = int(input(\"How many scores do you want to enter? \"))\n",
        "\n",
        "# Using a for loop to get scores from the user\n",
        "for i in range(num_scores):\n",
        "    score = float(input(f\"Enter score {i+1}: \"))\n",
        "    scores.append(score)  # Adding the score to the list\n",
        "\n",
        "# Displaying results\n",
        "print(\"\\nScore Analysis:\")\n",
        "print(f\"Highest Score: {max(scores)}\")\n",
        "print(f\"Lowest Score: {min(scores)}\")\n",
        "print(f\"Average Score: {sum(scores)/num_scores:.2f}\")\n"
      ],
      "metadata": {
        "id": "b9Vjnpck5wXq"
      },
      "execution_count": null,
      "outputs": []
    },
    {
      "cell_type": "markdown",
      "source": [
        "15. Name Sorting Program\n",
        "\n",
        "Concepts: Lists, Sorting, For Loop, Input/Output\n",
        "\n",
        "Scenario: The user enters names, and the program sorts them alphabetically."
      ],
      "metadata": {
        "id": "f5CosZkY57Aj"
      }
    },
    {
      "cell_type": "code",
      "source": [
        "# Name Sorting Program\n",
        "\n",
        "# Creating an empty list for names\n",
        "names = []\n",
        "\n",
        "# Asking the user how many names they want to enter\n",
        "num_names = int(input(\"How many names do you want to enter? \"))\n",
        "\n",
        "# Using a for loop to get names from the user\n",
        "for i in range(num_names):\n",
        "    name = input(f\"Enter name {i+1}: \")\n",
        "    names.append(name)  # Adding the name to the list\n",
        "\n",
        "# Sorting the names alphabetically\n",
        "names.sort()\n",
        "\n",
        "# Displaying the sorted list of names\n",
        "print(\"\\nSorted Names:\")\n",
        "for name in names:\n",
        "    print(name)\n"
      ],
      "metadata": {
        "id": "3DYsHIzY5-5h"
      },
      "execution_count": null,
      "outputs": []
    },
    {
      "cell_type": "markdown",
      "source": [
        "# **formatting**"
      ],
      "metadata": {
        "id": "Zc4gXv4CcGOG"
      }
    },
    {
      "cell_type": "markdown",
      "source": [
        "16. Basic String Formatting with Variables\n",
        "\n",
        "Concepts: f-strings, Variables"
      ],
      "metadata": {
        "id": "5MRi8Hia6Avx"
      }
    },
    {
      "cell_type": "code",
      "source": [
        "# Basic String Formatting with Variables\n",
        "\n",
        "# Defining variables\n",
        "name = \"Alice\"\n",
        "age = 20\n",
        "\n",
        "# Using f-strings to format output\n",
        "print(f\"My name is {name} and I am {age} years old.\")\n"
      ],
      "metadata": {
        "id": "RE8wtthL6FDX"
      },
      "execution_count": null,
      "outputs": []
    },
    {
      "cell_type": "markdown",
      "source": [
        "Explanation:\n",
        "\n",
        "The {name} and {age} inside the f\"\" string are placeholders that get replaced by variable values.\n",
        "\n",
        "This makes printing more readable and avoids using + for concatenation."
      ],
      "metadata": {
        "id": "nmSjFQx96G9y"
      }
    },
    {
      "cell_type": "markdown",
      "source": [
        "17.  Formatting Numbers with Decimal Places\n",
        "\n",
        "Concepts: f-strings, Rounding"
      ],
      "metadata": {
        "id": "VPAOdkfr6bBy"
      }
    },
    {
      "cell_type": "code",
      "source": [
        "# Formatting Numbers with Decimal Places\n",
        "\n",
        "price = 12.56789\n",
        "\n",
        "# Displaying price rounded to 2 decimal places\n",
        "print(f\"The total price is £{price:.2f}\")\n"
      ],
      "metadata": {
        "id": "bsfXEF6f6Rnd"
      },
      "execution_count": null,
      "outputs": []
    },
    {
      "cell_type": "markdown",
      "source": [
        "18. Aligning Text with Padding\n",
        "\n",
        "Concepts: f-strings, Text Alignment"
      ],
      "metadata": {
        "id": "Odxp58-P6oz-"
      }
    },
    {
      "cell_type": "code",
      "source": [
        "# Aligning Text with Padding\n",
        "\n",
        "print(f\"{'Item':<10} {'Price':>10}\")  # Headers\n",
        "print(f\"{'Apple':<10} {'£0.50':>10}\")  # Left-align item, right-align price\n",
        "print(f\"{'Banana':<10} {'£0.30':>10}\")\n",
        "print(f\"{'Milk':<10} {'£1.20':>10}\")\n"
      ],
      "metadata": {
        "id": "Da4zIXyNCQ27"
      },
      "execution_count": null,
      "outputs": []
    },
    {
      "cell_type": "markdown",
      "source": [
        "Explanation:\n",
        "\n",
        ":<10 means left-align the text in a 10-character space.\n",
        "\n",
        ":>10 means right-align text in a 10-character space.\n",
        "\n",
        "Useful for making neat tables."
      ],
      "metadata": {
        "id": "q8hifGHBCR0o"
      }
    },
    {
      "cell_type": "markdown",
      "source": [
        "19. Formatting Large Numbers with Commas\n",
        "\n",
        "Concepts: f-strings, Thousand Separators"
      ],
      "metadata": {
        "id": "uSPYLLZQCk-s"
      }
    },
    {
      "cell_type": "code",
      "source": [
        "# Formatting Large Numbers with Commas\n",
        "\n",
        "population = 12500000\n",
        "\n",
        "# Using a comma as a thousands separator\n",
        "print(f\"The city has a population of {population:,} people.\")\n"
      ],
      "metadata": {
        "id": "bfOBcrKbCkTw"
      },
      "execution_count": null,
      "outputs": []
    },
    {
      "cell_type": "markdown",
      "source": [
        "20. Formatting Large Numbers with Commas\n",
        "\n",
        "Concepts: f-strings, Thousand Separators"
      ],
      "metadata": {
        "id": "wcoD5V66CvYX"
      }
    },
    {
      "cell_type": "code",
      "source": [
        "# Formatting Large Numbers with Commas\n",
        "\n",
        "population = 12500000\n",
        "\n",
        "# Using a comma as a thousands separator\n",
        "print(f\"The city has a population of {population:,} people.\")\n"
      ],
      "metadata": {
        "id": "MIO8bzNkC_PA"
      },
      "execution_count": null,
      "outputs": []
    },
    {
      "cell_type": "markdown",
      "source": [
        "Output:\n",
        "\n",
        "The city has a population of 12,500,000 people.\n",
        "\n",
        "Explanation:\n",
        "\n",
        "{population:,} automatically adds commas to large numbers for readability.\n"
      ],
      "metadata": {
        "id": "A_U8QQpPC_-y"
      }
    },
    {
      "cell_type": "markdown",
      "source": [
        "21. Formatting Percentages\n",
        "\n",
        "Concepts: f-strings, Percentages"
      ],
      "metadata": {
        "id": "0lqC4jMEDSuv"
      }
    },
    {
      "cell_type": "code",
      "source": [
        "# Formatting Percentages\n",
        "\n",
        "success_rate = 0.875  # 87.5%\n",
        "\n",
        "# Displaying percentage with 1 decimal place\n",
        "print(f\"The success rate is {success_rate:.1%}.\")\n"
      ],
      "metadata": {
        "id": "oSImPnwDDR73"
      },
      "execution_count": null,
      "outputs": []
    },
    {
      "cell_type": "markdown",
      "source": [
        "Output:\n",
        "\n",
        "The success rate is 87.5%.\n",
        "\n",
        "Explanation:\n",
        "\n",
        ".1% converts the decimal to a percentage format with 1 decimal place.\n",
        "Useful for scores, probabilities, or rates."
      ],
      "metadata": {
        "id": "xyPEhHvVDXqH"
      }
    },
    {
      "cell_type": "markdown",
      "source": [
        "# **Functions**\n",
        "22. Greeting Function\n",
        "\n",
        "Concepts: Function Definition, Parameters, Input/Output"
      ],
      "metadata": {
        "id": "Tbjt0RHqDdKg"
      }
    },
    {
      "cell_type": "code",
      "source": [
        "# Greeting Function\n",
        "\n",
        "# Defining a function that takes a name as input and prints a greeting\n",
        "def greet(name):\n",
        "    print(f\"Hello, {name}! Hope you have a great day.\")\n",
        "\n",
        "# Asking the user for their name\n",
        "user_name = input(\"Enter your name: \")\n",
        "\n",
        "# Calling the function with the user's name\n",
        "greet(user_name)\n"
      ],
      "metadata": {
        "id": "zV2JLeqWE98N"
      },
      "execution_count": null,
      "outputs": []
    },
    {
      "cell_type": "markdown",
      "source": [
        "Explanation:\n",
        "\n",
        "The function greet(name) takes a name as input and prints a message.\n",
        "\n",
        "\n",
        "The function is called with user input to personalise the greeting."
      ],
      "metadata": {
        "id": "gxpMYuj-E_f-"
      }
    },
    {
      "cell_type": "markdown",
      "source": [
        "23. Add Two Numbers\n",
        "\n",
        "Concepts: Function with Return Value, Arithmetic Operations"
      ],
      "metadata": {
        "id": "AKeLCi__FOfV"
      }
    },
    {
      "cell_type": "code",
      "source": [
        "# Function to Add Two Numbers\n",
        "\n",
        "# Defining a function that takes two numbers and returns their sum\n",
        "def add_numbers(a, b):\n",
        "    return a + b  # Returns the sum\n",
        "\n",
        "# Asking the user for two numbers\n",
        "num1 = float(input(\"Enter first number: \"))\n",
        "num2 = float(input(\"Enter second number: \"))\n",
        "\n",
        "# Calling the function and storing the result\n",
        "result = add_numbers(num1, num2)\n",
        "\n",
        "# Printing the result\n",
        "print(f\"The sum of {num1} and {num2} is {result}.\")\n"
      ],
      "metadata": {
        "id": "lrWnpC2cFNr_"
      },
      "execution_count": null,
      "outputs": []
    },
    {
      "cell_type": "markdown",
      "source": [
        "Explanation:\n",
        "\n",
        "The function add_numbers(a, b) takes two numbers and returns their sum.\n",
        "\n",
        "The return statement sends the result back to the main program."
      ],
      "metadata": {
        "id": "enYIEqrtFVHR"
      }
    },
    {
      "cell_type": "markdown",
      "source": [
        "24. Check if a Number is Even or Odd\n",
        "\n",
        "Concepts: Function with If-Else, Modulus Operator"
      ],
      "metadata": {
        "id": "QDMEOv2BFWuc"
      }
    },
    {
      "cell_type": "code",
      "source": [
        "# Function to Check Even or Odd\n",
        "\n",
        "# Defining a function that checks if a number is even or odd\n",
        "def check_even_odd(number):\n",
        "    if number % 2 == 0:\n",
        "        print(f\"{number} is even.\")\n",
        "    else:\n",
        "        print(f\"{number} is odd.\")\n",
        "\n",
        "# Asking the user for a number\n",
        "num = int(input(\"Enter a number: \"))\n",
        "\n",
        "# Calling the function\n",
        "check_even_odd(num)\n"
      ],
      "metadata": {
        "id": "i7Ppfe9kFZkx"
      },
      "execution_count": null,
      "outputs": []
    },
    {
      "cell_type": "markdown",
      "source": [
        "Explanation:\n",
        "\n",
        "The function check_even_odd(number) uses the modulus operator (%) to check if a number is even or odd.\n",
        "\n",
        "If the number is divisible by 2, it is even; otherwise, it is odd."
      ],
      "metadata": {
        "id": "Z0ooh2N_FcZp"
      }
    },
    {
      "cell_type": "markdown",
      "source": [
        "25. Find the Largest of Three Numbers\n",
        "\n",
        "Concepts: Function with Multiple Parameters, If-Else\n"
      ],
      "metadata": {
        "id": "b5mijm8vFfPi"
      }
    },
    {
      "cell_type": "code",
      "source": [
        "# Function to Find the Largest Number\n",
        "\n",
        "# Defining a function that returns the largest of three numbers\n",
        "def find_largest(a, b, c):\n",
        "    if a >= b and a >= c:\n",
        "        return a\n",
        "    elif b >= a and b >= c:\n",
        "        return b\n",
        "    else:\n",
        "        return c\n",
        "\n",
        "# Asking the user for three numbers\n",
        "num1 = float(input(\"Enter first number: \"))\n",
        "num2 = float(input(\"Enter second number: \"))\n",
        "num3 = float(input(\"Enter third number: \"))\n",
        "\n",
        "# Calling the function and storing the result\n",
        "largest = find_largest(num1, num2, num3)\n",
        "\n",
        "# Printing the largest number\n",
        "print(f\"The largest number is {largest}.\")\n"
      ],
      "metadata": {
        "id": "cRi1afi5FjVu"
      },
      "execution_count": null,
      "outputs": []
    },
    {
      "cell_type": "markdown",
      "source": [
        "Explanation:\n",
        "\n",
        "The function find_largest(a, b, c) compares three numbers using if-elif-else and returns the largest.\n",
        "\n",
        "The return statement ensures the result is stored and used later.\n"
      ],
      "metadata": {
        "id": "IrAvyMn5FmLb"
      }
    },
    {
      "cell_type": "markdown",
      "source": [
        "26. Convert Celsius to Fahrenheit\n",
        "\n",
        "Concepts: Function with Return Value, Temperature Conversion"
      ],
      "metadata": {
        "id": "jvS-4ervFoZ1"
      }
    },
    {
      "cell_type": "code",
      "source": [
        "# Function to Convert Celsius to Fahrenheit\n",
        "\n",
        "# Defining a function that converts Celsius to Fahrenheit\n",
        "def celsius_to_fahrenheit(celsius):\n",
        "    fahrenheit = (celsius * 9/5) + 32\n",
        "    return fahrenheit\n",
        "\n",
        "# Asking the user for temperature in Celsius\n",
        "temp_celsius = float(input(\"Enter temperature in Celsius: \"))\n",
        "\n",
        "# Calling the function and storing the result\n",
        "temp_fahrenheit = celsius_to_fahrenheit(temp_celsius)\n",
        "\n",
        "# Printing the converted temperature\n",
        "print(f\"{temp_celsius}°C is equal to {temp_fahrenheit:.2f}°F.\")\n"
      ],
      "metadata": {
        "id": "pHXTCkpfFsCD"
      },
      "execution_count": null,
      "outputs": []
    },
    {
      "cell_type": "markdown",
      "source": [
        "Explanation:\n",
        "\n",
        "The function celsius_to_fahrenheit(celsius) converts Celsius to Fahrenheit using the formula.\n",
        "\n",
        "The function returns the result, which is formatted to 2 decimal places for clarity."
      ],
      "metadata": {
        "id": "tD1ClbhJFtrG"
      }
    },
    {
      "cell_type": "markdown",
      "source": [
        "# **Dictionary**"
      ],
      "metadata": {
        "id": "AUBABLQ9RZJI"
      }
    },
    {
      "cell_type": "markdown",
      "source": [
        "27. Student Information Dictionary\n",
        "\n",
        "Concepts: Creating a Dictionary, Accessing Values"
      ],
      "metadata": {
        "id": "A6SyMUG3RbiO"
      }
    },
    {
      "cell_type": "code",
      "source": [
        "# Student Information Dictionary\n",
        "\n",
        "# Creating a dictionary to store student details\n",
        "student = {\n",
        "    \"name\": \"Alice\",\n",
        "    \"age\": 16,\n",
        "    \"course\": \"BTEC Engineering\",\n",
        "    \"grade\": \"Merit\"\n",
        "}\n",
        "\n",
        "# Accessing and displaying values from the dictionary\n",
        "print(f\"Student Name: {student['name']}\")\n",
        "print(f\"Age: {student['age']}\")\n",
        "print(f\"Course: {student['course']}\")\n",
        "print(f\"Grade: {student['grade']}\")\n"
      ],
      "metadata": {
        "colab": {
          "base_uri": "https://localhost:8080/"
        },
        "id": "AYT1X0LvRfEy",
        "outputId": "6d3921a7-5d3e-4923-d0ae-1c550741633c"
      },
      "execution_count": null,
      "outputs": [
        {
          "output_type": "stream",
          "name": "stdout",
          "text": [
            "Student Name: Alice\n",
            "Age: 16\n",
            "Course: BTEC Engineering\n",
            "Grade: Merit\n"
          ]
        }
      ]
    },
    {
      "cell_type": "markdown",
      "source": [
        "Explanation:\n",
        "\n",
        "A dictionary stores key-value pairs (\"name\": \"Alice\").\n",
        "\n",
        "The values are accessed using student['key']."
      ],
      "metadata": {
        "id": "q_lgk7qtRnTU"
      }
    },
    {
      "cell_type": "markdown",
      "source": [
        "28. Phone Book Directory\n",
        "\n",
        "Concepts: Dictionary, Adding and Retrieving Data"
      ],
      "metadata": {
        "id": "eUFIKHAERpHG"
      }
    },
    {
      "cell_type": "code",
      "source": [
        "# Phone Book Directory\n",
        "\n",
        "# Creating an empty dictionary to store contacts\n",
        "phone_book = {}\n",
        "\n",
        "# Adding contacts\n",
        "phone_book[\"Alice\"] = \"07890 123456\"\n",
        "phone_book[\"Bob\"] = \"07980 654321\"\n",
        "phone_book[\"Charlie\"] = \"07777 987654\"\n",
        "\n",
        "# Asking user for a name and displaying the phone number\n",
        "name = input(\"Enter a name to find the phone number: \")\n",
        "\n",
        "if name in phone_book:\n",
        "    print(f\"{name}'s phone number is {phone_book[name]}\")\n",
        "else:\n",
        "    print(\"Contact not found.\")\n"
      ],
      "metadata": {
        "colab": {
          "base_uri": "https://localhost:8080/"
        },
        "id": "JUxCTQ1sRg7o",
        "outputId": "8fc3deb1-196c-4f16-d8f9-79e090123dac"
      },
      "execution_count": null,
      "outputs": [
        {
          "output_type": "stream",
          "name": "stdout",
          "text": [
            "Enter a name to find the phone number: fsdf\n",
            "Contact not found.\n"
          ]
        }
      ]
    },
    {
      "cell_type": "markdown",
      "source": [
        "Explanation:\n",
        "\n",
        "We create an empty dictionary and add contacts using phone_book[\"Alice\"] = \"07890 123456\".\n",
        "\n",
        "The program checks if the name exists before retrieving the phone number."
      ],
      "metadata": {
        "id": "pQ3LBLNmR2FR"
      }
    },
    {
      "cell_type": "markdown",
      "source": [
        "29. Shopping Basket (Updating Values)\n",
        "\n",
        "Concepts: Dictionary, Updating Values\n",
        "\n"
      ],
      "metadata": {
        "id": "DT-tzQH4R46H"
      }
    },
    {
      "cell_type": "code",
      "source": [
        "# Shopping Basket System\n",
        "\n",
        "# Creating a dictionary to store items and their prices\n",
        "basket = {\n",
        "    \"Apples\": 2.50,\n",
        "    \"Milk\": 1.20,\n",
        "    \"Bread\": 1.00\n",
        "}\n",
        "\n",
        "# Displaying original prices\n",
        "print(\"Original Prices:\")\n",
        "for item, price in basket.items():\n",
        "    print(f\"{item}: £{price:.2f}\")\n",
        "\n",
        "# Updating the price of an item\n",
        "basket[\"Milk\"] = 1.50  # New price for Milk\n",
        "\n",
        "# Displaying updated prices\n",
        "print(\"\\nUpdated Prices:\")\n",
        "for item, price in basket.items():\n",
        "    print(f\"{item}: £{price:.2f}\")\n"
      ],
      "metadata": {
        "colab": {
          "base_uri": "https://localhost:8080/"
        },
        "id": "ARaAcR68Rt4k",
        "outputId": "869873bf-81aa-4c86-c60e-980008e0d076"
      },
      "execution_count": null,
      "outputs": [
        {
          "output_type": "stream",
          "name": "stdout",
          "text": [
            "Original Prices:\n",
            "Apples: £2.50\n",
            "Milk: £1.20\n",
            "Bread: £1.00\n",
            "\n",
            "Updated Prices:\n",
            "Apples: £2.50\n",
            "Milk: £1.50\n",
            "Bread: £1.00\n"
          ]
        }
      ]
    },
    {
      "cell_type": "markdown",
      "source": [
        "Explanation:\n",
        "\n",
        "Updating a dictionary value: basket[\"Milk\"] = 1.50 updates the price.\n",
        "\n",
        "The loop .items() retrieves both keys (items) and values (prices)."
      ],
      "metadata": {
        "id": "7k_0Jx5BSJOt"
      }
    },
    {
      "cell_type": "markdown",
      "source": [
        "30. Counting Word Frequency in a Sentence\n",
        "\n",
        "Concepts: Dictionary, For Loo"
      ],
      "metadata": {
        "id": "nOzea_nDSQEe"
      }
    },
    {
      "cell_type": "code",
      "source": [
        "# Word Frequency Counter\n",
        "\n",
        "# Getting a sentence from the user\n",
        "sentence = input(\"Enter a sentence: \")\n",
        "\n",
        "# Splitting sentence into words\n",
        "words = sentence.split()\n",
        "\n",
        "# Creating an empty dictionary to count word occurrences\n",
        "word_count = {}\n",
        "\n",
        "# Counting words\n",
        "for word in words:\n",
        "    word = word.lower()  # Convert to lowercase for consistency\n",
        "    if word in word_count:\n",
        "        word_count[word] += 1\n",
        "    else:\n",
        "        word_count[word] = 1\n",
        "\n",
        "# Displaying word frequencies\n",
        "print(\"\\nWord Frequency:\")\n",
        "for word, count in word_count.items():\n",
        "    print(f\"{word}: {count}\")\n"
      ],
      "metadata": {
        "colab": {
          "base_uri": "https://localhost:8080/"
        },
        "id": "CdIWw-6-SH9l",
        "outputId": "6af16c40-a739-496c-bfb4-cc8fae1c5a15"
      },
      "execution_count": null,
      "outputs": [
        {
          "output_type": "stream",
          "name": "stdout",
          "text": [
            "Enter a sentence: sfdgsd\n",
            "\n",
            "Word Frequency:\n",
            "sfdgsd: 1\n"
          ]
        }
      ]
    },
    {
      "cell_type": "markdown",
      "source": [
        "Explanation:\n",
        "\n",
        "The dictionary stores words as keys and their occurrences as values.\n",
        "\n",
        "split() breaks the sentence into words, and lower() ensures case consistency."
      ],
      "metadata": {
        "id": "GAeKF7FKSkR-"
      }
    },
    {
      "cell_type": "markdown",
      "source": [
        "31. Storing and Retrieving Exam Scores\n",
        "\n",
        "Concepts: Dictionary, If-Else"
      ],
      "metadata": {
        "id": "r0szPHmXSnPz"
      }
    },
    {
      "cell_type": "code",
      "source": [
        "# Exam Scores Dictionary\n",
        "\n",
        "# Creating a dictionary with student scores\n",
        "scores = {\n",
        "    \"Alice\": 85,\n",
        "    \"Bob\": 78,\n",
        "    \"Charlie\": 92,\n",
        "    \"David\": 60\n",
        "}\n",
        "\n",
        "# Asking the user for a student's name\n",
        "student_name = input(\"Enter a student's name to check their score: \")\n",
        "\n",
        "# Checking if the student is in the dictionary\n",
        "if student_name in scores:\n",
        "    print(f\"{student_name}'s score is {scores[student_name]}.\")\n",
        "else:\n",
        "    print(\"Student not found.\")\n"
      ],
      "metadata": {
        "colab": {
          "base_uri": "https://localhost:8080/"
        },
        "id": "jkbGHu1eSOby",
        "outputId": "6c1b58c1-7a85-419b-a354-e65297e2ef30"
      },
      "execution_count": null,
      "outputs": [
        {
          "output_type": "stream",
          "name": "stdout",
          "text": [
            "Enter a student's name to check their score: fsd\n",
            "Student not found.\n"
          ]
        }
      ]
    },
    {
      "cell_type": "markdown",
      "source": [
        "Explanation:\n",
        "\n",
        "The dictionary stores student names as keys and exam scores as values.\n",
        "\n",
        "The if-else condition checks if the student's name exists before displaying the score."
      ],
      "metadata": {
        "id": "ngS_603PSxhT"
      }
    },
    {
      "cell_type": "markdown",
      "source": [
        "# **Basics of File Handling (Reading & Writing a File)**"
      ],
      "metadata": {
        "id": "7Up8tVjfS0LD"
      }
    },
    {
      "cell_type": "markdown",
      "source": [
        "Python allows us to read from and write to files using the open() function.\n",
        "\n",
        "**Example 1: Writing to a File**\n",
        "\n",
        "This program creates a file called \"notes.txt\",\n",
        "writes some text into it, and then closes the file."
      ],
      "metadata": {
        "id": "XZ7HcIKGS4n4"
      }
    },
    {
      "cell_type": "code",
      "source": [
        "# Writing to a file\n",
        "\n",
        "# Open a file in write mode (\"w\" means write)\n",
        "file = open(\"notes.txt\", \"w\")\n",
        "\n",
        "# Writing text to the file\n",
        "file.write(\"Hello, this is my first file in Python!\\n\")\n",
        "file.write(\"File handling is useful for storing data.\\n\")\n",
        "\n",
        "# Closing the file\n",
        "file.close()\n",
        "\n",
        "print(\"Data written to notes.txt successfully.\")\n"
      ],
      "metadata": {
        "colab": {
          "base_uri": "https://localhost:8080/"
        },
        "id": "6WdgNdR_SrzF",
        "outputId": "b70a2b14-d8af-441f-f8f9-f58b3458f270"
      },
      "execution_count": null,
      "outputs": [
        {
          "output_type": "stream",
          "name": "stdout",
          "text": [
            "Data written to notes.txt successfully.\n"
          ]
        }
      ]
    },
    {
      "cell_type": "markdown",
      "source": [
        "Explanation:\n",
        "\n",
        "\"w\" mode creates a new file or overwrites an existing one.\n",
        "\n",
        ".write() writes text to the file.\n",
        "\n",
        ".close() is used to save and close the file properly."
      ],
      "metadata": {
        "id": "fAXiC_KSTCDK"
      }
    },
    {
      "cell_type": "markdown",
      "source": [
        "**Example 2: Reading from a File**\n",
        "\n",
        "Now, let's read the contents of the \"notes.txt\" file."
      ],
      "metadata": {
        "id": "WWaw7RPPTFMB"
      }
    },
    {
      "cell_type": "code",
      "source": [
        "# Reading from a file\n",
        "\n",
        "# Open the file in read mode (\"r\" means read)\n",
        "file = open(\"notes.txt\", \"r\")\n",
        "\n",
        "# Reading the content of the file\n",
        "content = file.read()\n",
        "\n",
        "# Closing the file\n",
        "file.close()\n",
        "\n",
        "# Printing the file content\n",
        "print(\"File content:\")\n",
        "print(content)\n"
      ],
      "metadata": {
        "id": "vCS1fJ3zS-Uo"
      },
      "execution_count": null,
      "outputs": []
    },
    {
      "cell_type": "markdown",
      "source": [
        "Explanation:\n",
        "\n",
        "\"r\" mode opens a file for reading.\n",
        "\n",
        ".read() reads the entire file.\n",
        "\n",
        "Always close the file after reading."
      ],
      "metadata": {
        "id": "_sa0v-tvVBJP"
      }
    },
    {
      "cell_type": "markdown",
      "source": [
        "**Example 3: Appending to a File**\n",
        "\n",
        "Let's add more data to \"notes.txt\" without deleting existing content."
      ],
      "metadata": {
        "id": "5gwaeKfzVD1j"
      }
    },
    {
      "cell_type": "code",
      "source": [
        "# Appending data to a file\n",
        "\n",
        "# Open the file in append mode (\"a\" means append)\n",
        "file = open(\"notes.txt\", \"a\")\n",
        "\n",
        "# Adding more lines to the file\n",
        "file.write(\"Appending new data to the file.\\n\")\n",
        "file.write(\"Now the file has more information.\\n\")\n",
        "\n",
        "# Closing the file\n",
        "file.close()\n",
        "\n",
        "print(\"Data appended successfully.\")\n"
      ],
      "metadata": {
        "id": "tVKRZguYVHM4"
      },
      "execution_count": null,
      "outputs": []
    },
    {
      "cell_type": "markdown",
      "source": [
        "Explanation:\n",
        "\n",
        "\"a\" mode allows us to add new content without deleting previous data."
      ],
      "metadata": {
        "id": "_tJdm-R0VJ82"
      }
    },
    {
      "cell_type": "markdown",
      "source": [
        "**2. Using with open() (Recommended Way)**\n",
        "\n",
        "Instead of using .close(), Python provides a better way to handle files using with open()."
      ],
      "metadata": {
        "id": "ZTnUuIzYVMID"
      }
    },
    {
      "cell_type": "code",
      "source": [
        "# Using 'with' to read a file\n",
        "\n",
        "with open(\"notes.txt\", \"r\") as file:\n",
        "    content = file.read()  # Read the file content\n",
        "\n",
        "print(\"File content:\")\n",
        "print(content)  # Print the content outside the 'with' block\n"
      ],
      "metadata": {
        "id": "7dvcIVTgVPDP"
      },
      "execution_count": null,
      "outputs": []
    },
    {
      "cell_type": "markdown",
      "source": [
        "**Why use with open()?**\n",
        "\n",
        "✅ Automatically closes the file after execution\n",
        "\n",
        "✅ Reduces errors if the program crashes"
      ],
      "metadata": {
        "id": "0snXobeiVGe2"
      }
    },
    {
      "cell_type": "markdown",
      "source": [
        " **3. Using Multiple Python Files in IDLE**\n",
        "\n",
        "\n",
        "In Python, we can import functions from another .py file.\n",
        "\n",
        "\n",
        "**Step 1: Create a Python file (math_operations.py)**\n",
        "\n",
        "This file contains some functions for addition and subtraction."
      ],
      "metadata": {
        "id": "iwlDIw5vVZgk"
      }
    },
    {
      "cell_type": "code",
      "source": [
        "# math_operations.py\n",
        "\n",
        "def add(a, b):\n",
        "    return a + b\n",
        "\n",
        "def subtract(a, b):\n",
        "    return a - b\n",
        "\n",
        "# This block prevents code from running when imported\n",
        "if __name__ == \"__main__\":\n",
        "    print(\"This is a module with math functions.\")\n"
      ],
      "metadata": {
        "colab": {
          "base_uri": "https://localhost:8080/"
        },
        "id": "xnye0QGBVrl6",
        "outputId": "e44f04ef-53e9-4e21-e003-bfaf325a3f1a"
      },
      "execution_count": null,
      "outputs": [
        {
          "output_type": "stream",
          "name": "stdout",
          "text": [
            "This is a module with math functions.\n"
          ]
        }
      ]
    },
    {
      "cell_type": "markdown",
      "source": [
        "**Step 2: Create another Python file (main.py)**\n",
        "\n",
        "This file imports the functions from math_operations.py and uses them"
      ],
      "metadata": {
        "id": "m4HppunRTEP4"
      }
    },
    {
      "cell_type": "code",
      "source": [
        "# main.py\n",
        "\n",
        "# Importing functions from math_operations.py\n",
        "import math_operations\n",
        "\n",
        "# Using the functions\n",
        "num1 = 10\n",
        "num2 = 5\n",
        "\n",
        "sum_result = math_operations.add(num1, num2)\n",
        "sub_result = math_operations.subtract(num1, num2)\n",
        "\n",
        "# Displaying the results\n",
        "print(f\"Addition: {num1} + {num2} = {sum_result}\")\n",
        "print(f\"Subtraction: {num1} - {num2} = {sub_result}\")\n"
      ],
      "metadata": {
        "colab": {
          "base_uri": "https://localhost:8080/",
          "height": 384
        },
        "id": "RQ4RyhCUV24L",
        "outputId": "25abf7da-30b8-4058-facc-8725cc11f5e9",
        "collapsed": true
      },
      "execution_count": 1,
      "outputs": [
        {
          "output_type": "error",
          "ename": "ModuleNotFoundError",
          "evalue": "No module named 'math_operations'",
          "traceback": [
            "\u001b[0;31m---------------------------------------------------------------------------\u001b[0m",
            "\u001b[0;31mModuleNotFoundError\u001b[0m                       Traceback (most recent call last)",
            "\u001b[0;32m<ipython-input-1-67adc32d199e>\u001b[0m in \u001b[0;36m<cell line: 0>\u001b[0;34m()\u001b[0m\n\u001b[1;32m      2\u001b[0m \u001b[0;34m\u001b[0m\u001b[0m\n\u001b[1;32m      3\u001b[0m \u001b[0;31m# Importing functions from math_operations.py\u001b[0m\u001b[0;34m\u001b[0m\u001b[0;34m\u001b[0m\u001b[0m\n\u001b[0;32m----> 4\u001b[0;31m \u001b[0;32mimport\u001b[0m \u001b[0mmath_operations\u001b[0m\u001b[0;34m\u001b[0m\u001b[0;34m\u001b[0m\u001b[0m\n\u001b[0m\u001b[1;32m      5\u001b[0m \u001b[0;34m\u001b[0m\u001b[0m\n\u001b[1;32m      6\u001b[0m \u001b[0;31m# Using the functions\u001b[0m\u001b[0;34m\u001b[0m\u001b[0;34m\u001b[0m\u001b[0m\n",
            "\u001b[0;31mModuleNotFoundError\u001b[0m: No module named 'math_operations'",
            "",
            "\u001b[0;31m---------------------------------------------------------------------------\u001b[0;32m\nNOTE: If your import is failing due to a missing package, you can\nmanually install dependencies using either !pip or !apt.\n\nTo view examples of installing some common dependencies, click the\n\"Open Examples\" button below.\n\u001b[0;31m---------------------------------------------------------------------------\u001b[0m\n"
          ],
          "errorDetails": {
            "actions": [
              {
                "action": "open_url",
                "actionText": "Open Examples",
                "url": "/notebooks/snippets/importing_libraries.ipynb"
              }
            ]
          }
        }
      ]
    },
    {
      "cell_type": "markdown",
      "source": [
        "**How to Run This in IDLE?**\n",
        "\n",
        "Create both files (math_operations.py and main.py) in the same folder.\n",
        "\n",
        "Open main.py in IDLE and press F5 (Run Module).\n",
        "\n",
        "It will import functions from math_operations.py and execute them."
      ],
      "metadata": {
        "id": "CVTfJow_W33D"
      }
    },
    {
      "cell_type": "markdown",
      "source": [
        "**4. Understanding if __name__ == \"__main__\"**"
      ],
      "metadata": {
        "id": "p_JNmeg6W-jt"
      }
    },
    {
      "cell_type": "markdown",
      "source": [
        "In math_operations.py, we used:"
      ],
      "metadata": {
        "id": "5Hr6NLhNXBYd"
      }
    },
    {
      "cell_type": "code",
      "source": [
        "if __name__ == \"__main__\":\n",
        "    print(\"This is a module with math functions.\")\n"
      ],
      "metadata": {
        "colab": {
          "base_uri": "https://localhost:8080/"
        },
        "id": "bssEfuCVWGGM",
        "outputId": "b6c41cf7-1c1d-4834-ea76-05888f2801d3"
      },
      "execution_count": null,
      "outputs": [
        {
          "output_type": "stream",
          "name": "stdout",
          "text": [
            "This is a module with math functions.\n"
          ]
        }
      ]
    },
    {
      "cell_type": "markdown",
      "source": [
        "Why?\n",
        "\n",
        "When importing a file, Python executes all its code.\n",
        "\n",
        "The if __name__ == \"__main__\" block ensures that code runs only when the file is executed directly, not when imported."
      ],
      "metadata": {
        "id": "ubIc874cXFL-"
      }
    },
    {
      "cell_type": "code",
      "source": [],
      "metadata": {
        "id": "mgz7uo7uXDV6"
      },
      "execution_count": null,
      "outputs": []
    }
  ]
}